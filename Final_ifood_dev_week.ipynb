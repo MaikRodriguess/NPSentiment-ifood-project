{
  "nbformat": 4,
  "nbformat_minor": 0,
  "metadata": {
    "colab": {
      "provenance": [],
      "include_colab_link": true
    },
    "kernelspec": {
      "name": "python3",
      "display_name": "Python 3"
    },
    "language_info": {
      "name": "python"
    }
  },
  "cells": [
    {
      "cell_type": "markdown",
      "metadata": {
        "id": "view-in-github",
        "colab_type": "text"
      },
      "source": [
        "<a href=\"https://colab.research.google.com/github/MaikRodriguess/ifood-dev-week/blob/main/Final_ifood_dev_week.ipynb\" target=\"_parent\"><img src=\"https://colab.research.google.com/assets/colab-badge.svg\" alt=\"Open In Colab\"/></a>"
      ]
    },
    {
      "cell_type": "markdown",
      "source": [
        "# iFood Dev Week\n",
        "\n",
        "Saiba mais sobre essa semana incrível nos artigos:\n",
        "- [Desvendando a iFood Dev Week](https://www.dio.me/articles/desvendando-a-ifood-dev-week)\n",
        "- [Fechando a iFood Dev Week Com Chave de Ouro](https://web.dio.me/articles/fechando-a-ifood-dev-week-com-chave-de-ouro)"
      ],
      "metadata": {
        "id": "oPigZArHe3d_"
      }
    },
    {
      "cell_type": "markdown",
      "source": [
        "## Dia 1: [Conheça o Google Colab e o Projeto Desta Dev Week](https://www.youtube.com/live/59XwC5e8U1k?feature=share)\n",
        "\n",
        "Vamos mergulhar no Google Colab, aprendendo como ele pode ser usado para automatizar tarefas cotidianas, principalmente através da manipulação de planilhas. Além disso, você aprenderá na prática o conceito do Net Promoter Score (NPS), uma métrica fundamental para entender a satisfação do cliente."
      ],
      "metadata": {
        "id": "VJ9ncXpVjIz9"
      }
    },
    {
      "cell_type": "code",
      "source": [
        "\"\"\"\n",
        "Este código baixa um arquivo CSV de feedbacks do Google Drive e carrega os dados em um DataFrame pandas.\n",
        "\n",
        "O arquivo é identificado por um ID único ('file_id'), que é extraído da URL do arquivo no Google Drive.\n",
        "A URL do arquivo no Google Drive tem o seguinte formato:\n",
        "https://drive.google.com/file/d/FILE_ID/view?usp=sharing\n",
        "\"\"\"\n",
        "\n",
        "import gdown\n",
        "import pandas as pd\n",
        "\n",
        "file_id = '19H1cG4SHTh5Z8mEkQDyIz_YfUlrn1PVW'\n",
        "gdown.download(f'https://drive.google.com/uc?id={file_id}', 'feedbacks.csv')\n",
        "\n",
        "dados = pd.read_csv('/content/feedbacks.csv', delimiter=';')\n",
        "print(dados)"
      ],
      "metadata": {
        "id": "NbC1PgziTHai",
        "colab": {
          "base_uri": "https://localhost:8080/"
        },
        "outputId": "af37e674-3eef-4d1f-c69a-43765c938c53"
      },
      "execution_count": 8,
      "outputs": [
        {
          "output_type": "stream",
          "name": "stderr",
          "text": [
            "Downloading...\n",
            "From: https://drive.google.com/uc?id=19H1cG4SHTh5Z8mEkQDyIz_YfUlrn1PVW\n",
            "To: /content/feedbacks.csv\n",
            "100%|██████████| 505/505 [00:00<00:00, 1.12MB/s]"
          ]
        },
        {
          "output_type": "stream",
          "name": "stdout",
          "text": [
            "    nota                                         comentario\n",
            "0      9  Adorei o atendimento! Muito eficiente e amigavel.\n",
            "1      7  O serviço foi bom, mas poderia ser um pouco ma...\n",
            "2     10    Incrivel! Superou todas as minhas expectativas.\n",
            "3      8                 Equipe muito prestativa e educada.\n",
            "4      6  A experiência não foi tão boa quanto eu esperava.\n",
            "5      9             Recomendaria para amigos e familiares.\n",
            "6      5               Precisa melhorar em alguns aspectos.\n",
            "7      9                      Excelente serviço ao cliente.\n",
            "8     10                     Não tenho nenhuma reclamações.\n",
            "9      7               Alguns problemas durante o processo.\n",
            "10    10                        gostei muito do atendimento\n"
          ]
        },
        {
          "output_type": "stream",
          "name": "stderr",
          "text": [
            "\n"
          ]
        }
      ]
    },
    {
      "cell_type": "code",
      "execution_count": 9,
      "metadata": {
        "id": "pQo2iXQLPjnR",
        "colab": {
          "base_uri": "https://localhost:8080/"
        },
        "outputId": "ee282548-bdad-4092-fd87-cc58c98c05f4",
        "cellView": "form"
      },
      "outputs": [
        {
          "output_type": "stream",
          "name": "stdout",
          "text": [
            "36.36363636363637\n"
          ]
        }
      ],
      "source": [
        "#@title\n",
        "\"\"\"\n",
        "Versão 1: Paradigma Imperativo.\n",
        "\n",
        "Este script lê um arquivo CSV contendo feedback de usuários, no qual cada feedback tem uma nota associada.\n",
        "O NPS é calculado como a diferença entre o percentual de promotores (nota >= 9) e detratores (nota <= 6), multiplicada por 100.\n",
        "A implementação é realizada de uma maneira imperativa, onde os comandos são executados sequencialmente.\n",
        "\"\"\"\n",
        "\n",
        "notas = dados['nota']\n",
        "\n",
        "detratores = 0\n",
        "promotores = 0\n",
        "\n",
        "for nota in notas:\n",
        "  if nota >= 9:\n",
        "    promotores += 1\n",
        "  elif nota <= 6:\n",
        "    detratores += 1\n",
        "\n",
        "nps = (promotores - detratores) / len(notas) * 100\n",
        "\n",
        "print(nps)"
      ]
    },
    {
      "cell_type": "code",
      "source": [
        "#@title\n",
        "\"\"\"\n",
        "Versão 2: Paradigma Funcional.\n",
        "\n",
        "Este código segue uma abordagem funcional para calcular o NPS a partir dos dados de feedback.\n",
        "A função \"calcular_nps\" é definida para encapsular a lógica do cálculo do NPS. Esta versão apresenta\n",
        "uma separação de responsabilidades mais clara do que a versão imperativa, além de melhorias de código pontuais.\n",
        "\"\"\"\n",
        "\n",
        "import pandas as pd\n",
        "\n",
        "def calcular_nps(notas):\n",
        "  detratores = notas.apply(lambda nota: nota <= 6).sum()\n",
        "  promotores = notas[notas >= 9].count()\n",
        "\n",
        "  return (promotores - detratores) / len(notas) * 100\n",
        "\n",
        "notas = dados['nota']\n",
        "\n",
        "nps = calcular_nps(notas)\n",
        "\n",
        "print(nps)"
      ],
      "metadata": {
        "id": "-qLL6LQ1qcAR",
        "colab": {
          "base_uri": "https://localhost:8080/"
        },
        "outputId": "087cc0c7-4f8a-4ec4-b97a-e560e44b25b2",
        "cellView": "form"
      },
      "execution_count": 10,
      "outputs": [
        {
          "output_type": "stream",
          "name": "stdout",
          "text": [
            "36.36363636363637\n"
          ]
        }
      ]
    },
    {
      "cell_type": "code",
      "source": [
        "\"\"\"\n",
        "Versão 3: Paradigma Orientado a Objetos (POO).\n",
        "\n",
        "Este script adota uma abordagem Orientada a Objetos (OO) para calcular o NPS a partir de feedback de usuários.\n",
        "Duas classes são definidas, onde:\n",
        "- Feedback representa um único feedback de usuário;\n",
        "- AnalisadorFeedback é usado para calcular o NPS a partir de uma lista de Feedbacks.\n",
        "A POO fornece uma abstração mais clara dos dados e comportamentos envolvidos no cálculo do NPS.\n",
        "Desta forma, nossa solução estará preparada para as evoluções do nosso projeto.\n",
        "\"\"\"\n",
        "\n",
        "class Feedback:\n",
        "  def __init__(self, nota, comentario):\n",
        "    self.nota = nota\n",
        "    self.comentario = comentario\n",
        "\n",
        "class AnalisadorFeedback:\n",
        "  def __init__(self, feedbacks):\n",
        "    self.feedbacks = feedbacks\n",
        "\n",
        "  def calcular_nps(self):\n",
        "    # Por ser uma list do Python, aplicamos o conceito de \"list comprehension\" para filtrar nossos Feedbacks.\n",
        "    detratores = sum(1 for feedback in self.feedbacks if feedback.nota <= 6)\n",
        "    promotores = sum(1 for feedback in self.feedbacks if feedback.nota >= 9)\n",
        "\n",
        "    return (promotores - detratores) / len(self.feedbacks) * 100\n",
        "\n",
        "feedbacks = dados.apply(lambda linha: Feedback(linha['nota'], linha['comentario']), axis=1)\n",
        "\n",
        "analisador = AnalisadorFeedback(feedbacks)\n",
        "nps = analisador.calcular_nps()\n",
        "\n",
        "print(nps)"
      ],
      "metadata": {
        "id": "Rzhk-sOXrwJb",
        "colab": {
          "base_uri": "https://localhost:8080/"
        },
        "outputId": "98f7d575-0c41-4ae5-cee9-02acc62cff4d"
      },
      "execution_count": 11,
      "outputs": [
        {
          "output_type": "stream",
          "name": "stdout",
          "text": [
            "36.36363636363637\n"
          ]
        }
      ]
    },
    {
      "cell_type": "markdown",
      "source": [
        "## Dia 2: Desvendando o Poder dos Seus Dados com Python\n",
        "\n",
        "No segundo dia, vamos conectar nosso Google Colab ao Google Drive, extrair dados do NPS e aplicar as técnicas de ETL (Extração, Transformação e Carregamento) nesses dados. Com a ajuda da biblioteca matplotlib, criaremos gráficos para visualizar e compreender o nível de satisfação dos nossos usuários."
      ],
      "metadata": {
        "id": "ekkcgs-nujuG"
      }
    },
    {
      "cell_type": "code",
      "source": [
        "import matplotlib.pyplot as plt\n",
        "import matplotlib.patches as mpatches\n",
        "\n",
        "# Definição das constantes que usaremos para visualizar o NPS\n",
        "NPS_ZONAS =   ['Crítico', 'Aperfeiçoamento', 'Qualidade', 'Excelência']\n",
        "NPS_VALORES = [-100, 0, 50, 75, 100]\n",
        "NPS_CORES =   ['#FF595E', '#FFCA3A', '#8AC926', '#1982C4']\n",
        "\n",
        "# TODO: Criar um gráfico usando \"matplotlib\" para visualizar o NPS que calculamos no Dia 1!\n",
        "def criar_grafico_nps(nps):\n",
        "  fig, ax = plt.subplots(figsize=(10, 2))\n",
        "\n",
        "  for i, zona in enumerate(NPS_ZONAS):\n",
        "    ax.barh([0], width=NPS_VALORES[i+1]-NPS_VALORES[i], left=NPS_VALORES[i], color=NPS_CORES[i])\n",
        "\n",
        "  ax.barh([0], width=1, left=nps, color='black')\n",
        "  ax.set_yticks([])\n",
        "  ax.set_xlim(-100, 100)\n",
        "  ax.set_xticks(NPS_VALORES)\n",
        "\n",
        "  plt.text(nps, 0, f'{nps:.2f}', ha='center', va='center', color='white', bbox=dict(facecolor='black'))\n",
        "\n",
        "  patches = [mpatches.Patch(color=NPS_CORES[i], label=NPS_ZONAS[i]) for i in range(len(NPS_ZONAS))]\n",
        "  plt.legend(handles=patches, bbox_to_anchor=(1,1))\n",
        "\n",
        "  plt.title('Gráfico de NPS da iFood Dev Week')\n",
        "\n",
        "  plt.show()\n",
        "\n",
        "criar_grafico_nps(nps)"
      ],
      "metadata": {
        "colab": {
          "base_uri": "https://localhost:8080/",
          "height": 237
        },
        "id": "bXaJ7Q0zf95l",
        "outputId": "89bd145a-71a4-4e32-c3e3-38ff11d358a7"
      },
      "execution_count": 12,
      "outputs": [
        {
          "output_type": "display_data",
          "data": {
            "text/plain": [
              "<Figure size 1000x200 with 1 Axes>"
            ],
            "image/png": "[encoded data removed]"
          },
          "metadata": {}
        }
      ]
    },
    {
      "cell_type": "markdown",
      "source": [
        "## Dia 3: Decifrando Sentimentos com Inteligência Artificial (IA)\n",
        "\n",
        "No último dia, vamos utilizar as técnicas de Processamento de Linguagem Natural (PLN) para analisar os sentimentos expressos nos comentários associados às notas de NPS. Dessa forma, teremos uma perspectiva qualitativa que complementa nossos dados quantitativos."
      ],
      "metadata": {
        "id": "jHl6lLS1usU1"
      }
    },
    {
      "cell_type": "code",
      "source": [
        "#!pip install openai"
      ],
      "metadata": {
        "id": "4GgxVSEDUevW"
      },
      "execution_count": null,
      "outputs": []
    },
    {
      "cell_type": "code",
      "source": [
        "# Documentação Oficial da API OpenAI: https://platform.openai.com/docs/api-reference/introduction\n",
        "# Informações sobre o Período Gratuito: https://help.openai.com/en/articles/4936830\n",
        "\n",
        "# Para gerar uma API Key:\n",
        "# 1. Crie uma conta na OpenAI\n",
        "# 2. Acesse a seção \"API Keys\"\n",
        "# 3. Clique em \"Create API Key\"\n",
        "# Link direto: https://platform.openai.com/account/api-keys\n",
        "\n",
        "# Substitua o texto \"TODO\" por sua API Key da OpenAI, ela será salva como uma variável de ambiente.\n",
        "openai_api_key = 'TODO'"
      ],
      "metadata": {
        "id": "ahl3NezxUD2r"
      },
      "execution_count": 17,
      "outputs": []
    },
    {
      "cell_type": "code",
      "source": [
        "# TODO: Integrar com o ChatGPT e usá-lo como um modelo para análise de sentimentos dos nossos comentários.\n",
        "# Seguem alguns links úteis:\n",
        "# 1. Endpoint que vamos consumir: https://platform.openai.com/docs/api-reference/chat/create\n",
        "# 2. Collection Postman da OpenAI: https://www.postman.com/devrel/workspace/openai/documentation/13183464-90abb798-cb85-43cb-ba3a-ae7941e968da\n",
        "\n",
        "import openai\n",
        "\n",
        "openai.api_key = openai_api_key\n",
        "\n",
        "def analisar_sentimentos(feedbacks):\n",
        "\n",
        "  comentarios_formatados = \"\\n\".join([f\"- Nota {feedback.nota}! {feedback.comentario}\" for feedback in feedbacks])\n",
        "  prompt = f\"\"\"\n",
        "            Sintetize uma análise geral sobre os seguintes comentário:\n",
        "            {comentarios_formatados}\"\"\"\n",
        "\n",
        "  respostaAPI = openai.ChatCompletion.create(\n",
        "    model=\"gpt-3.5-turbo\",\n",
        "    messages=[\n",
        "      {\n",
        "          \"role\": \"system\",\n",
        "          \"content\": \"Você é um modelo de análise de sentimentos com foco em feedbacks sobre experiências educacionais.\"\n",
        "      },\n",
        "      {\n",
        "          \"role\": \"user\",\n",
        "          \"content\": prompt\n",
        "      }\n",
        "    ]\n",
        "  )\n",
        "  return respostaAPI.choices[0].message.content\n",
        "\n",
        "insigths = analisar_sentimentos(feedbacks)\n",
        "print(insigths)"
      ],
      "metadata": {
        "id": "G7H3LfBgUU1h",
        "colab": {
          "base_uri": "https://localhost:8080/"
        },
        "outputId": "ca351bb5-2786-4b51-986e-3bd9b56a0526"
      },
      "execution_count": 21,
      "outputs": [
        {
          "output_type": "stream",
          "name": "stdout",
          "text": [
            "Com base nos comentários fornecidos, podemos concluir que a experiência educacional recebeu avaliações positivas no geral. O atendimento foi destacado como um ponto forte, sendo considerado eficiente, amigável e excelente em vários casos. Além disso, a maioria dos comentários menciona recomendação para amigos e familiares.\n",
            "\n",
            "No entanto, alguns aspectos que precisam ser melhorados foram mencionados. Por exemplo, a velocidade do serviço em um comentário recebeu uma nota 7, indicando que poderia ser um pouco mais rápido. Em outro caso, foi mencionado que a experiência não atendeu às expectativas, recebendo nota 6, o que indica uma insatisfação parcial.\n",
            "\n",
            "De forma geral, os sentimentos expressos nos comentários variam desde positivos, como \"nota 10\" e \"incrível\", até neutros ou negativos, como \"precisa melhorar em alguns aspectos\" e \"problemas durante o processo\". Portanto, é importante para a experiência educacional analisada continuar aprimorando seus pontos fortes no atendimento ao cliente, enquanto trabalha para resolver quaisquer problemas mencionados pelos participantes.\n"
          ]
        }
      ]
    },
    {
      "cell_type": "markdown",
      "source": [
        "**Exemplo de saída 2:**\n",
        "\n",
        "Prompt usado: \" Analise os comentários e os classifique em positivos, neutros e negativos\"\n",
        "\n",
        "Positivos:\n",
        "- Nota 9! Adorei o atendimento! Muito eficiente e amigável.\n",
        "- Nota 10! Incrível! Superou todas as minhas expectativas.\n",
        "- Nota 8! Equipe muito prestativa e educada.\n",
        "- Nota 9! Recomendaria para amigos e familiares.\n",
        "- Nota 9! Excelente serviço ao cliente.\n",
        "- Nota 10! Não tenho nenhuma reclamação.\n",
        "- Nota 10! Gostei muito do atendimento.\n",
        "\n",
        "Neutros:\n",
        "- Nota 7! O serviço foi bom, mas poderia ser um pouco mais rápido.\n",
        "- Nota 7! Alguns problemas durante o processo.\n",
        "\n",
        "Negativos:\n",
        "- Nota 6! A experiência não foi tão boa quanto eu esperava.\n",
        "- Nota 5! Precisa melhorar em alguns aspectos.\n",
        "\n",
        "É importante ressaltar que a classificação dos sentimentos pode variar de acordo com a interpretação de cada pessoa."
      ],
      "metadata": {
        "id": "NO_53Gq4rHen"
      }
    }
  ]
}